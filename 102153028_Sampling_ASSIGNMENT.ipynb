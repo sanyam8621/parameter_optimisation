{
  "nbformat": 4,
  "nbformat_minor": 0,
  "metadata": {
    "colab": {
      "provenance": []
    },
    "kernelspec": {
      "name": "python3",
      "display_name": "Python 3"
    },
    "language_info": {
      "name": "python"
    }
  },
  "cells": [
    {
      "cell_type": "code",
      "source": [
        "import pandas as pd\n",
        "from sklearn.model_selection import train_test_split, StratifiedShuffleSplit\n",
        "from sklearn.linear_model import LogisticRegression\n",
        "from sklearn.ensemble import RandomForestClassifier\n",
        "from sklearn.svm import SVC\n",
        "from sklearn.neighbors import KNeighborsClassifier\n",
        "from xgboost import XGBClassifier\n",
        "from imblearn.over_sampling import RandomOverSampler, SMOTE, ADASYN\n",
        "from imblearn.under_sampling import RandomUnderSampler\n",
        "from imblearn.combine import SMOTETomek\n",
        "from sklearn.metrics import accuracy_score"
      ],
      "metadata": {
        "id": "GF4Jfk8bY_x6"
      },
      "execution_count": 1,
      "outputs": []
    },
    {
      "cell_type": "code",
      "source": [
        "# Load data\n",
        "df = pd.read_csv('https://raw.githubusercontent.com/AnjulaMehto/Sampling_Assignment/main/Creditcard_data.csv')\n",
        "X = df.drop(columns=['Time', 'Class'])\n",
        "y = df['Class']"
      ],
      "metadata": {
        "id": "KECqvzKRZBqH"
      },
      "execution_count": 2,
      "outputs": []
    },
    {
      "cell_type": "code",
      "source": [
        "\n",
        "# Split data into training and testing sets\n",
        "X_train, X_test, y_train, y_test = train_test_split(X, y, test_size=0.3, random_state=42)"
      ],
      "metadata": {
        "id": "GpSYGepbZEWr"
      },
      "execution_count": 3,
      "outputs": []
    },
    {
      "cell_type": "code",
      "source": [
        "# Define models\n",
        "models = {\n",
        "    'Logistic Regression': LogisticRegression(),\n",
        "    'Random Forest': RandomForestClassifier(),\n",
        "    'Support Vector Machine': SVC(),\n",
        "    'K-Nearest Neighbors': KNeighborsClassifier(),\n",
        "    'XGBoost': XGBClassifier()\n",
        "}"
      ],
      "metadata": {
        "id": "SS8Cvg-FZHBb"
      },
      "execution_count": 4,
      "outputs": []
    },
    {
      "cell_type": "code",
      "source": [
        "# Define sampling techniques\n",
        "samplers = {\n",
        "    'Random Over-Sampling': RandomOverSampler(),\n",
        "    'Random Under-Sampling': RandomUnderSampler(),\n",
        "    'SMOTE': SMOTE(),\n",
        "    'ADASYN': ADASYN(),\n",
        "    'Tomek Links': SMOTETomek(),\n",
        "    'Stratified Sampling': StratifiedShuffleSplit(n_splits=5, test_size=0.3, random_state=42),\n",
        "    'Systematic Sampling': None  # Replace None with the appropriate implementation\n",
        "}"
      ],
      "metadata": {
        "id": "1hQlsv-KZMKe"
      },
      "execution_count": 5,
      "outputs": []
    },
    {
      "cell_type": "code",
      "source": [
        "\n",
        "results = []\n",
        "for model_name, model in models.items():\n",
        "    for sampler_name, sampler in samplers.items():\n",
        "        if sampler_name == 'Stratified Sampling':\n",
        "            # Apply stratified sampling\n",
        "            for train_idx, val_idx in sampler.split(X_train, y_train):\n",
        "                X_resampled, y_resampled = X_train.iloc[train_idx], y_train.iloc[train_idx]\n",
        "                X_val, y_val = X_train.iloc[val_idx], y_train.iloc[val_idx]\n",
        "        elif sampler_name == 'Systematic Sampling':\n",
        "            # Apply systematic sampling\n",
        "            step = 2\n",
        "            indices = list(range(0, len(X_train), step))\n",
        "            X_resampled, y_resampled = X_train.iloc[indices], y_train.iloc[indices]\n",
        "        else:\n",
        "            # Apply other resampling techniques\n",
        "            X_resampled, y_resampled = sampler.fit_resample(X_train, y_train)\n",
        "        # Fit model to resampled data\n",
        "        model.fit(X_resampled, y_resampled)\n",
        "        # Make predictions on test data\n",
        "        y_pred = model.predict(X_test)\n",
        "        # Compute accuracy score on test data\n",
        "        accuracy = accuracy_score(y_test, y_pred)\n",
        "        # Append results to results list\n",
        "        results.append({'Model': model_name, 'Sampler': sampler_name, 'Accuracy': accuracy})\n",
        "# Convert results list to DataFrame\n",
        "results_df = pd.DataFrame(results)\n"
      ],
      "metadata": {
        "id": "egVoRZI6XepT"
      },
      "execution_count": null,
      "outputs": []
    },
    {
      "cell_type": "code",
      "source": [
        "results_df"
      ],
      "metadata": {
        "id": "NYAVUOWfXnLX"
      },
      "execution_count": null,
      "outputs": []
    },
    {
      "cell_type": "code",
      "source": [
        "# Reshape the DataFrame to have models as rows and samplers as columns\n",
        "table = pd.pivot_table(results_df, values='Accuracy', index=['Model'], columns=['Sampler'])"
      ],
      "metadata": {
        "id": "CzGvOvqnX34h"
      },
      "execution_count": null,
      "outputs": []
    },
    {
      "cell_type": "code",
      "source": [
        "table"
      ],
      "metadata": {
        "id": "qcZcCv8-X7DX"
      },
      "execution_count": null,
      "outputs": []
    }
  ]
}